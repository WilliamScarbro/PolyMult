{
 "cells": [
  {
   "cell_type": "code",
   "execution_count": null,
   "metadata": {},
   "outputs": [],
   "source": [
    "class Sort:\n",
    "    def __init__(self,name,params):\n",
    "        self.params=params\n",
    "    def __eq__(self,other):\n",
    "        if other.name!=self.name:\n",
    "            return Talse\n",
    "        for op,mp in zip(self.params,other.params):\n",
    "            if op!=mp:\n",
    "                return False\n",
    "        return True\n",
    "class Rule:\n",
    "    def __init__(self,name,)\n",
    "class TRS:\n",
    "    def __init__(sorts,rules)"
   ]
  }
 ],
 "metadata": {
  "kernelspec": {
   "display_name": "SageMath 9.4",
   "language": "sage",
   "name": "sagemath"
  },
  "language_info": {
   "codemirror_mode": {
    "name": "ipython",
    "version": 3
   },
   "file_extension": ".py",
   "mimetype": "text/x-python",
   "name": "python",
   "nbconvert_exporter": "python",
   "pygments_lexer": "ipython3",
   "version": "3.9.5"
  }
 },
 "nbformat": 4,
 "nbformat_minor": 4
}
