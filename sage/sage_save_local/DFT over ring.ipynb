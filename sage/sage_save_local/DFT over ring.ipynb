{
 "cells": [
  {
   "cell_type": "code",
   "execution_count": 21,
   "metadata": {},
   "outputs": [],
   "source": [
    "class MyQuoRing(Ring):\n",
    "    def __init__(self,p_ring,qout):\n",
    "        self.p_ring=p_ring\n",
    "        self.n=quot.degree()\n",
    "        self.quot=quot\n",
    "    def generator(self):\n",
    "        for p in self.enumerate_ring():\n",
    "            if self.is_generator(p):\n",
    "                return p\n",
    "    def size(self):\n",
    "        return self.p_ring.characteristic()**self.n\n",
    "    def is_generator(self,p):\n",
    "        factors = [a[0] for a in list(factor(self.size()-1))]\n",
    "        for f in factors:\n",
    "            if pow(p,self.size()//f,self.quot)==1:\n",
    "                return False\n",
    "        return True\n",
    "    def elem_prop(self,p):\n",
    "        if p==1:\n",
    "            return \"order\",1\n",
    "        res=p\n",
    "        for i in range(2,self.size()+3):\n",
    "            res=pow(res*p,1,self.quot)\n",
    "            if res==1:\n",
    "                return \"order\",i\n",
    "            if res==p:\n",
    "                return \"cycle\",i\n",
    "    #does not include 0            \n",
    "    def enumerate_ring(self):\n",
    "        return [p for i in range(self.n) for p in self.p_ring.polynomials(of_degree=i)]\n",
    "    def order_d(self,d):\n",
    "        possible=[]\n",
    "        for e in self.enumerate_ring():\n",
    "            prop,k = self.elem_prop(e)\n",
    "            if prop==\"order\" and k==d:\n",
    "                possible.append(e)\n",
    "        return sample(possible,1)[0]\n",
    "        \n",
    "    #checks if sum_{i=0}^{d-1} a^(ik) = d if k=0 (mod d) else 0\n",
    "    def vanishing_property(self,a,d):\n",
    "        p_minus_one=self.p_ring.characteristic()-1\n",
    "        #print(p_minus_one)\n",
    "        if p_minus_one%d!=0 or d>p_minus_one:\n",
    "            return\n",
    "        print(a,\"order\",d)\n",
    "        for k in range(1,2*d+1):\n",
    "            res = sum(pow(a,i*k,self.quot) for i in range(0,d))\n",
    "            res = pow(res,1,self.quot)\n",
    "            if k%d==0:\n",
    "                if res!=d:\n",
    "                    return False\n",
    "            else:\n",
    "                if res!=0:\n",
    "                    return False\n",
    "        return True\n",
    "    def __str__(self):\n",
    "        return \"My quotient ring of: {} modulo {}\".format(self.p_ring,self.quot)"
   ]
  },
  {
   "cell_type": "code",
   "execution_count": 34,
   "metadata": {},
   "outputs": [
    {
     "name": "stdout",
     "output_type": "stream",
     "text": [
      "5*x + 6 order 3\n"
     ]
    },
    {
     "data": {
      "text/plain": [
       "6*x + 2"
      ]
     },
     "execution_count": 34,
     "metadata": {},
     "output_type": "execute_result"
    }
   ],
   "source": [
    "ff=GF(13)\n",
    "n=2\n",
    "A=PolynomialRing(ff,['x'])\n",
    "quot=A(\"x\")^n-4\n",
    "\n",
    "A_q=MyQuoRing(A,quot)\n",
    "\n",
    "#[p for p in A.polynomials(of_degree=n)]\n",
    "elems=A_q.enumerate_ring()\n",
    "\n",
    "assert len(elems)+1==A_q.size()\n",
    "\n",
    "props = [(e,A_q.elem_prop(e)) for e in elems]\n",
    "#print(props)\n",
    "\n",
    "# for p in props:\n",
    "#     if p[1][0]==\"order\":\n",
    "#         try:\n",
    "#             A_q.vanishing_property(p[0],p[1][1])\n",
    "#         except Exception as e:\n",
    "#             print(e)\n",
    "A_q.vanishing_property(A(\"5*x+6\"),3)\n",
    "A_q.order_d(3)"
   ]
  },
  {
   "cell_type": "code",
   "execution_count": 138,
   "metadata": {},
   "outputs": [],
   "source": [
    "class DFT:\n",
    "    def __init__(self,quo_ring,d,a=None):\n",
    "        self.quo_ring=quo_ring\n",
    "        self.d=d\n",
    "        \n",
    "        p_minus_one = self.quo_ring.p_ring.characteristic()-1\n",
    "        assert p_minus_one%self.d==0 and self.d<=p_minus_one, \"{} does not divide {}\".format(d,p_minus_one)\n",
    "        \n",
    "        self.d_inverse=p_minus_one//self.d\n",
    "        \n",
    "        if a==None:\n",
    "            self.dth_root=self.quo_ring.order_d(d)\n",
    "        else:\n",
    "            self.dth_root=a\n",
    "        if not self.dth_root:\n",
    "            raise Exception(\"No element with order {} can be found in: {}\".format(self.d,self.quo_ring))\n",
    "        \n",
    "        self.dth_root_inverse=pow(self.dth_root,d-1,self.quo_ring.quot)\n",
    "        assert pow(self.dth_root_inverse*self.dth_root,1,self.quo_ring.quot)==1\n",
    "        \n",
    "    def getMat(self,inverse=False):\n",
    "        if not inverse:\n",
    "            return matrix([[pow(self.dth_root,(i*j),self.quo_ring.quot) for i in range(self.d)] for j in range(self.d)])\n",
    "        else:\n",
    "            return -1*self.d_inverse*matrix([[self.dth_root_inverse^(i*j) for i in range(self.d)] for j in range(self.d)])\n",
    "    \n",
    "    def __str__(self):\n",
    "        return \"DFT: \\n  d:{}\\n  dth_root:{}\".format(self.d,self.dth_root)\n",
    "    \n",
    "    def check_inverse(self,a):\n",
    "        a_prime = a*self.getMat()\n",
    "        print(a_prime)\n",
    "        a_rec = a_prime*self.getMat(inverse=True)\n",
    "        a_rec=[pow(a_rec[0][i],1,self.quo_ring.quot) for i in range(self.d)]\n",
    "        print(a_rec)\n",
    "        assert a == a_rec, f\"check inverse failed {a} != {a_rec}\""
   ]
  },
  {
   "cell_type": "code",
   "execution_count": 139,
   "metadata": {},
   "outputs": [],
   "source": [
    "d=3\n",
    "a_vec=sample(elems,d)\n",
    "a_vec=[A(\"x+2\"),A(\"x+3\"),A(\"x+4\")]"
   ]
  },
  {
   "cell_type": "code",
   "execution_count": 140,
   "metadata": {},
   "outputs": [
    {
     "name": "stdout",
     "output_type": "stream",
     "text": [
      "DFT: \n",
      "  d:3\n",
      "  dth_root:5*x + 6\n",
      "[      1       1       1]\n",
      "[      1 5*x + 6 8*x + 6]\n",
      "[      1 8*x + 6 5*x + 6]\n",
      "[                            9                             9                             9]\n",
      "[                            9                       7*x + 2              4*x^2 + 6*x + 12]\n",
      "[                            9              4*x^2 + 6*x + 12 9*x^4 + x^3 + 6*x^2 + 3*x + 3]\n",
      "[x + 2, x + 3, x + 4]\n",
      "[3*x + 9 8*x + 5 5*x + 5]\n",
      "[x + 2, x + 3, x + 4]\n"
     ]
    },
    {
     "ename": "AssertionError",
     "evalue": "check inverse failed [x + 2 x + 3 x + 4] != [x + 2, x + 3, x + 4]",
     "output_type": "error",
     "traceback": [
      "\u001b[0;31m---------------------------------------------------------------------------\u001b[0m",
      "\u001b[0;31mAssertionError\u001b[0m                            Traceback (most recent call last)",
      "\u001b[0;32m<ipython-input-140-c35c571f71f5>\u001b[0m in \u001b[0;36m<module>\u001b[0;34m\u001b[0m\n\u001b[1;32m      5\u001b[0m \u001b[0mprint\u001b[0m\u001b[0;34m(\u001b[0m\u001b[0mdft\u001b[0m\u001b[0;34m.\u001b[0m\u001b[0mgetMat\u001b[0m\u001b[0;34m(\u001b[0m\u001b[0minverse\u001b[0m\u001b[0;34m=\u001b[0m\u001b[0;32mTrue\u001b[0m\u001b[0;34m)\u001b[0m\u001b[0;34m)\u001b[0m\u001b[0;34m\u001b[0m\u001b[0;34m\u001b[0m\u001b[0m\n\u001b[1;32m      6\u001b[0m \u001b[0mprint\u001b[0m\u001b[0;34m(\u001b[0m\u001b[0ma_vec\u001b[0m\u001b[0;34m)\u001b[0m\u001b[0;34m\u001b[0m\u001b[0;34m\u001b[0m\u001b[0m\n\u001b[0;32m----> 7\u001b[0;31m \u001b[0ma_rec\u001b[0m \u001b[0;34m=\u001b[0m \u001b[0mdft\u001b[0m\u001b[0;34m.\u001b[0m\u001b[0mcheck_inverse\u001b[0m\u001b[0;34m(\u001b[0m\u001b[0mmatrix\u001b[0m\u001b[0;34m(\u001b[0m\u001b[0ma_vec\u001b[0m\u001b[0;34m)\u001b[0m\u001b[0;34m)\u001b[0m\u001b[0;34m\u001b[0m\u001b[0;34m\u001b[0m\u001b[0m\n\u001b[0m",
      "\u001b[0;32m<ipython-input-138-c09955a688d7>\u001b[0m in \u001b[0;36mcheck_inverse\u001b[0;34m(self, a)\u001b[0m\n\u001b[1;32m     34\u001b[0m         \u001b[0ma_rec\u001b[0m\u001b[0;34m=\u001b[0m\u001b[0;34m[\u001b[0m\u001b[0mpow\u001b[0m\u001b[0;34m(\u001b[0m\u001b[0ma_rec\u001b[0m\u001b[0;34m[\u001b[0m\u001b[0mInteger\u001b[0m\u001b[0;34m(\u001b[0m\u001b[0;36m0\u001b[0m\u001b[0;34m)\u001b[0m\u001b[0;34m]\u001b[0m\u001b[0;34m[\u001b[0m\u001b[0mi\u001b[0m\u001b[0;34m]\u001b[0m\u001b[0;34m,\u001b[0m\u001b[0mInteger\u001b[0m\u001b[0;34m(\u001b[0m\u001b[0;36m1\u001b[0m\u001b[0;34m)\u001b[0m\u001b[0;34m,\u001b[0m\u001b[0mself\u001b[0m\u001b[0;34m.\u001b[0m\u001b[0mquo_ring\u001b[0m\u001b[0;34m.\u001b[0m\u001b[0mquot\u001b[0m\u001b[0;34m)\u001b[0m \u001b[0;32mfor\u001b[0m \u001b[0mi\u001b[0m \u001b[0;32min\u001b[0m \u001b[0mrange\u001b[0m\u001b[0;34m(\u001b[0m\u001b[0mself\u001b[0m\u001b[0;34m.\u001b[0m\u001b[0md\u001b[0m\u001b[0;34m)\u001b[0m\u001b[0;34m]\u001b[0m\u001b[0;34m\u001b[0m\u001b[0;34m\u001b[0m\u001b[0m\n\u001b[1;32m     35\u001b[0m         \u001b[0mprint\u001b[0m\u001b[0;34m(\u001b[0m\u001b[0ma_rec\u001b[0m\u001b[0;34m)\u001b[0m\u001b[0;34m\u001b[0m\u001b[0;34m\u001b[0m\u001b[0m\n\u001b[0;32m---> 36\u001b[0;31m         \u001b[0;32massert\u001b[0m \u001b[0ma\u001b[0m \u001b[0;34m==\u001b[0m \u001b[0ma_rec\u001b[0m\u001b[0;34m,\u001b[0m \u001b[0;34mf\"check inverse failed {a} != {a_rec}\"\u001b[0m\u001b[0;34m\u001b[0m\u001b[0;34m\u001b[0m\u001b[0m\n\u001b[0m",
      "\u001b[0;31mAssertionError\u001b[0m: check inverse failed [x + 2 x + 3 x + 4] != [x + 2, x + 3, x + 4]"
     ]
    }
   ],
   "source": [
    "dft=DFT(A_q,d,a=A(\"5x+6\"))\n",
    "#dft=DFT(A_q,d)\n",
    "print(dft)\n",
    "print(dft.getMat())\n",
    "print(dft.getMat(inverse=True))\n",
    "print(a_vec)\n",
    "a_rec = dft.check_inverse(matrix(a_vec))"
   ]
  },
  {
   "cell_type": "code",
   "execution_count": 6,
   "metadata": {},
   "outputs": [
    {
     "data": {
      "text/plain": [
       "[7*x + 6, 8*x + 6, 12*x + 10, 6*x]"
      ]
     },
     "execution_count": 6,
     "metadata": {},
     "output_type": "execute_result"
    }
   ],
   "source": [
    "sample(elems,4)"
   ]
  },
  {
   "cell_type": "code",
   "execution_count": 126,
   "metadata": {},
   "outputs": [
    {
     "name": "stdout",
     "output_type": "stream",
     "text": [
      "1 1\n",
      "5*x + 6 5*x + 6\n",
      "12*x^2 + 8*x + 10 8*x + 6\n",
      "8*x^3 + 8*x^2 + 7*x + 8 1\n"
     ]
    }
   ],
   "source": [
    "a=A(\"5x+6\")\n",
    "for i in range(4):\n",
    "    print(a**i,pow(a,i,A(\"x^2-4\")))\n",
    "    "
   ]
  },
  {
   "cell_type": "code",
   "execution_count": 130,
   "metadata": {},
   "outputs": [
    {
     "data": {
      "text/plain": [
       "6*x + 2"
      ]
     },
     "execution_count": 130,
     "metadata": {},
     "output_type": "execute_result"
    }
   ],
   "source": [
    "A(\"5x+6\")*9"
   ]
  },
  {
   "cell_type": "code",
   "execution_count": null,
   "metadata": {},
   "outputs": [],
   "source": []
  },
  {
   "cell_type": "code",
   "execution_count": null,
   "metadata": {},
   "outputs": [],
   "source": []
  },
  {
   "cell_type": "code",
   "execution_count": null,
   "metadata": {},
   "outputs": [],
   "source": []
  },
  {
   "cell_type": "code",
   "execution_count": null,
   "metadata": {},
   "outputs": [],
   "source": []
  }
 ],
 "metadata": {
  "kernelspec": {
   "display_name": "SageMath 9.4",
   "language": "sage",
   "name": "sagemath"
  },
  "language_info": {
   "codemirror_mode": {
    "name": "ipython",
    "version": 3
   },
   "file_extension": ".py",
   "mimetype": "text/x-python",
   "name": "python",
   "nbconvert_exporter": "python",
   "pygments_lexer": "ipython3",
   "version": "3.9.5"
  }
 },
 "nbformat": 4,
 "nbformat_minor": 4
}
