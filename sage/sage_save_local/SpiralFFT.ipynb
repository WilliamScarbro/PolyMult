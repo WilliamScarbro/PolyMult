{
 "cells": [
  {
   "cell_type": "code",
   "execution_count": 1,
   "metadata": {},
   "outputs": [],
   "source": [
    "class Quotient_Ring:\n",
    "    def __init__(self,n,p,N,d):\n",
    "        ff.<gen>=GF(p,modulus=\"primitive\") # coeficient field\n",
    "        self.gen=gen\n",
    "        self.ff=ff\n",
    "        assert N%n==0, \"{}|{} is false\".format(n,N)\n",
    "        self.p=p\n",
    "        self.N=N\n",
    "        self.n=n\n",
    "        self.d=d\n",
    "    def __str__(self):\n",
    "        return \"Quotient Ring: ({}) / (x^{}-(w_{})^{})\".format(self.ff,self.n,self.N,self.d)\n",
    "    def denominator(self):\n",
    "        pr=self.ff[\"x\"]\n",
    "        x=pr(\"x\")\n",
    "        return x^self.n-E(self.N)^(self.d)\n",
    "    def root(self,degree):\n",
    "        assert (self.p-1)%degree==0, (self.p,degree)\n",
    "        return self.gen^((self.p-1)/degree)\n",
    "        "
   ]
  },
  {
   "cell_type": "code",
   "execution_count": 5,
   "metadata": {},
   "outputs": [],
   "source": [
    "import numpy\n",
    "\n",
    "def ntt(x,qr):\n",
    "    n=len(x)\n",
    "    return [sum(x[j]*qr.root(n)^(i*j) for j in range(n)) for i in range(n)]\n",
    "\n",
    "def step_grab(x,step,start):\n",
    "    assert len(x)%step==0\n",
    "    return [x[i*step+start] for i in range(len(x)/step)]\n",
    "\n",
    "def fft(x,qr,k):\n",
    "    assert len(x)%k==0\n",
    "    w=qr.root(len(x))\n",
    "    z=[NTT(step_grab(x,k,l)) for l in range(len(x)//k)]\n",
    "    print(S)\n",
    "    tz = [w^()]"
   ]
  },
  {
   "cell_type": "code",
   "execution_count": 12,
   "metadata": {},
   "outputs": [
    {
     "name": "stdout",
     "output_type": "stream",
     "text": [
      "3\n",
      "[4, 5, 6]\n"
     ]
    },
    {
     "data": {
      "text/plain": [
       "[2, 8, 2]"
      ]
     },
     "execution_count": 12,
     "metadata": {},
     "output_type": "execute_result"
    }
   ],
   "source": [
    "n=3\n",
    "p=13\n",
    "N=n\n",
    "d=N\n",
    "\n",
    "qr=Quotient_Ring(n,p,N,d)\n",
    "print(qr.root(n))\n",
    "x=[4,5,6]\n",
    "print(x)\n",
    "ntt(x,qr)\n",
    "\n"
   ]
  }
 ],
 "metadata": {
  "kernelspec": {
   "display_name": "SageMath 9.4",
   "language": "sage",
   "name": "sagemath"
  },
  "language_info": {
   "codemirror_mode": {
    "name": "ipython",
    "version": 3
   },
   "file_extension": ".py",
   "mimetype": "text/x-python",
   "name": "python",
   "nbconvert_exporter": "python",
   "pygments_lexer": "ipython3",
   "version": "3.9.5"
  }
 },
 "nbformat": 4,
 "nbformat_minor": 4
}
