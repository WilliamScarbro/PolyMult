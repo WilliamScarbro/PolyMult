{
 "cells": [
  {
   "cell_type": "code",
   "execution_count": 31,
   "metadata": {},
   "outputs": [],
   "source": [
    "class Quotient_Ring:\n",
    "    def __init__(self,n,p,N,d):\n",
    "        ff.<gen>=GF(p,modulus=\"primitive\") # coeficient field\n",
    "        self.gen=gen\n",
    "        self.ff=ff\n",
    "        assert N%n==0, \"{}|{} is false\".format(n,N)\n",
    "        self.p=p\n",
    "        self.N=N\n",
    "        self.n=n\n",
    "        self.d=d\n",
    "    def __str__(self):\n",
    "        return \"Quotient Ring: ({}) / (x^{}-(w_{})^{})\".format(self.ff,self.n,self.N,self.d)\n",
    "    def denominator(self):\n",
    "        pr=self.ff[\"x\"]\n",
    "        x=pr(\"x\")\n",
    "        return x^self.n-E(self.N)^(self.d)\n",
    "    def root(self,degree):\n",
    "        assert (self.p-1)%degree==0, (self.p,degree)\n",
    "        return self.gen^((self.p-1)/degree)\n",
    "    def split(self,k):\n",
    "        return Quotient_Ring(self.n//k,self.p,self.N,self.d)\n",
    "\n",
    "def get_prime(n):\n",
    "    N=n\n",
    "    while not (N+1) in Primes():\n",
    "        N+=n\n",
    "    return N+1\n"
   ]
  },
  {
   "cell_type": "code",
   "execution_count": 32,
   "metadata": {},
   "outputs": [],
   "source": [
    "def dft(x,qr):\n",
    "    n=len(x)\n",
    "    w=qr.root(n)\n",
    "    #print(\"DFT_{}: w={}\".format(n,w))\n",
    "    return [sum(x[i]*w^(i*j) for i in range(n)) for j in range(n)]"
   ]
  },
  {
   "cell_type": "code",
   "execution_count": 33,
   "metadata": {},
   "outputs": [],
   "source": [
    "def fft(x,qr):\n",
    "    if len(x)==2:\n",
    "        return dft(x,qr),2\n",
    "    xe=[x[2*i] for i in range(len(x)//2)]\n",
    "    xo=[x[2*i+1] for i in range(len(x)//2)]\n",
    "    ye,w1=fft(xe,qr)\n",
    "    yo,w2=fft(xo,qr)\n",
    "    S=[qr.root(len(x))^i*yo[i] for i in range(len(x)//2)]\n",
    "    y=[ye[i]+S[i] for i in range(len(x)//2)]+[ye[i]-S[i] for i in range(len(x)//2)]\n",
    "    print(len(x),3//2*len(x)+w1+w2)\n",
    "    return y,3*len(x)/2+w1+w2\n"
   ]
  },
  {
   "cell_type": "code",
   "execution_count": 39,
   "metadata": {},
   "outputs": [],
   "source": [
    "def split(x,base):\n",
    "    if len(x)==base:\n",
    "        return x\n",
    "    y=[[x[2*i] for i in range(len(x)//2)],split([x[2*i+1] for i in range(len(x)//2)],base)]\n",
    "    return y\n",
    "\n",
    "def rec_ms(x,qr):\n",
    "    #print(x)\n",
    "    if len(x[0])==1:\n",
    "        return x,0,0\n",
    "    X_0,mults_0,adds0 = meta_split(x[0],qr)\n",
    "    X_1,mults_1,adds1 = rec_ms(x[1],qr)\n",
    "    return [X_0,X_1],mults_0+mults_1,adds0+adds1\n",
    "\n",
    "\n",
    "def combine(y,qr,depth):\n",
    "    #print(\"comb: incoming\",y)\n",
    "    if len(y[0])==1:\n",
    "        S = [y[0][0]+y[1][0],y[0][0]-y[1][0]]\n",
    "        #print(depth,S)\n",
    "        return S,0,2\n",
    "    S_dp1,mults,adds = combine(y[1],qr,depth+1)\n",
    "    n=len(y[0])\n",
    "    s = [qr.root(2*n)^i*S_dp1[i] for i in range(n)]\n",
    "    #S = [y[0][i%n]+qr.root(2*n)^i*S_dp1[i%n] for i in range(2*n)]\n",
    "    S = [y[0][i]+s[i] for i in range(n)]+[y[0][i]-s[i] for i in range(n)]\n",
    "    #print(\"partial\",[qr.root(2*n)^i*S_dp1[i%n] for i in range(2*n)])\n",
    "    #print(depth,S)\n",
    "    return S,mults+n,adds+2*n\n",
    "\n",
    "def meta_split(x,qr):\n",
    "    n=len(x)\n",
    "    if n==1:\n",
    "        return x,0,0\n",
    "    assert math.log(n,2)%1==0\n",
    "    y=split(x,1)\n",
    "    Y,mults0,adds0=rec_ms(y,qr)\n",
    "    #print(Y)\n",
    "    #print(\"combining\")\n",
    "    X,mults1,adds1=combine(Y,qr,0)\n",
    "    print(len(X),mults0+mults1+adds0+adds1)\n",
    "    return X,mults0+mults1,adds0+adds1\n",
    "    \n"
   ]
  },
  {
   "cell_type": "code",
   "execution_count": 40,
   "metadata": {},
   "outputs": [
    {
     "name": "stdout",
     "output_type": "stream",
     "text": [
      "4 8\n",
      "4 8\n",
      "8 28\n",
      "4 8\n",
      "4 8\n",
      "8 28\n",
      "16 80\n",
      "4 8\n",
      "4 8\n",
      "8 28\n",
      "4 8\n",
      "4 8\n",
      "8 28\n",
      "16 80\n",
      "32 208\n",
      "4 8\n",
      "4 8\n",
      "8 28\n",
      "4 8\n",
      "4 8\n",
      "8 28\n",
      "16 80\n",
      "4 8\n",
      "4 8\n",
      "8 28\n",
      "4 8\n",
      "4 8\n",
      "8 28\n",
      "16 80\n",
      "32 208\n",
      "64 512\n",
      "4 8\n",
      "4 8\n",
      "8 28\n",
      "4 8\n",
      "4 8\n",
      "8 28\n",
      "16 80\n",
      "4 8\n",
      "4 8\n",
      "8 28\n",
      "4 8\n",
      "4 8\n",
      "8 28\n",
      "16 80\n",
      "32 208\n",
      "4 8\n",
      "4 8\n",
      "8 28\n",
      "4 8\n",
      "4 8\n",
      "8 28\n",
      "16 80\n",
      "4 8\n",
      "4 8\n",
      "8 28\n",
      "4 8\n",
      "4 8\n",
      "8 28\n",
      "16 80\n",
      "32 208\n",
      "64 512\n",
      "128 1216\n",
      "([226, 48, 159, 9, 237, 85, 75, 220, 43, 125, 20, 84, 217, 100, 181, 189, 104, 40, 248, 81, 224, 54, 91, 57, 127, 204, 253, 62, 211, 210, 143, 201, 53, 187, 225, 27, 154, 17, 197, 42, 1, 47, 31, 122, 95, 74, 70, 234, 128, 33, 146, 238, 93, 32, 216, 16, 222, 245, 28, 175, 24, 246, 72, 117, 65, 13, 58, 141, 106, 212, 102, 142, 165, 114, 171, 98, 37, 149, 241, 97, 2, 153, 60, 56, 35, 8, 99, 83, 129, 88, 190, 113, 233, 103, 162, 200, 77, 186, 244, 177, 176, 68, 134, 183, 3, 73, 39, 76, 163, 49, 139, 90, 26, 198, 206, 30, 170, 46, 110, 5, 87, 167, 55, 45, 150, 121, 228, 82], 1280)\n",
      "2 2\n",
      "4 10\n",
      "2 2\n",
      "8 32\n",
      "2 2\n",
      "4 10\n",
      "2 2\n",
      "16 88\n",
      "2 2\n",
      "4 10\n",
      "2 2\n",
      "8 32\n",
      "2 2\n",
      "4 10\n",
      "2 2\n",
      "32 224\n",
      "2 2\n",
      "4 10\n",
      "2 2\n",
      "8 32\n",
      "2 2\n",
      "4 10\n",
      "2 2\n",
      "16 88\n",
      "2 2\n",
      "4 10\n",
      "2 2\n",
      "8 32\n",
      "2 2\n",
      "4 10\n",
      "2 2\n",
      "64 544\n",
      "2 2\n",
      "4 10\n",
      "2 2\n",
      "8 32\n",
      "2 2\n",
      "4 10\n",
      "2 2\n",
      "16 88\n",
      "2 2\n",
      "4 10\n",
      "2 2\n",
      "8 32\n",
      "2 2\n",
      "4 10\n",
      "2 2\n",
      "32 224\n",
      "2 2\n",
      "4 10\n",
      "2 2\n",
      "8 32\n",
      "2 2\n",
      "4 10\n",
      "2 2\n",
      "16 88\n",
      "2 2\n",
      "4 10\n",
      "2 2\n",
      "8 32\n",
      "2 2\n",
      "4 10\n",
      "2 2\n",
      "128 1280\n",
      "([226, 48, 159, 9, 237, 85, 75, 220, 43, 125, 20, 84, 217, 100, 181, 189, 104, 40, 248, 81, 224, 54, 91, 57, 127, 204, 253, 62, 211, 210, 143, 201, 53, 187, 225, 27, 154, 17, 197, 42, 1, 47, 31, 122, 95, 74, 70, 234, 128, 33, 146, 238, 93, 32, 216, 16, 222, 245, 28, 175, 24, 246, 72, 117, 65, 13, 58, 141, 106, 212, 102, 142, 165, 114, 171, 98, 37, 149, 241, 97, 2, 153, 60, 56, 35, 8, 99, 83, 129, 88, 190, 113, 233, 103, 162, 200, 77, 186, 244, 177, 176, 68, 134, 183, 3, 73, 39, 76, 163, 49, 139, 90, 26, 198, 206, 30, 170, 46, 110, 5, 87, 167, 55, 45, 150, 121, 228, 82], 384, 896)\n"
     ]
    }
   ],
   "source": [
    "    \n",
    "n=128\n",
    "p=get_prime(n)\n",
    "qr=Quotient_Ring(n,p,n,n)\n",
    "x=[i*3 for i in range(n)]\n",
    "#print(split(x,1))\n",
    "print(fft(x,qr))\n",
    "print(meta_split(x,qr))"
   ]
  },
  {
   "cell_type": "code",
   "execution_count": 23,
   "metadata": {},
   "outputs": [
    {
     "data": {
      "text/plain": [
       "1344"
      ]
     },
     "execution_count": 23,
     "metadata": {},
     "output_type": "execute_result"
    }
   ],
   "source": []
  },
  {
   "cell_type": "code",
   "execution_count": 130,
   "metadata": {},
   "outputs": [
    {
     "name": "stdout",
     "output_type": "stream",
     "text": [
      "[1, 7, 20, 52, 128, 304, 704, 1600, 3584, 7936, 17408, 37888, 81920, 176128]\n",
      "[555, 1301, 2987, 6741, 15019, 33109, 72363, 157013, 338603]\n",
      "[3, 12, 36, 96, 240, 576, 1344, 3072, 6912, 15360, 33792, 73728, 159744, 344064]\n"
     ]
    }
   ],
   "source": [
    "def ms_rt(n):\n",
    "    #print(n)\n",
    "    if n==2:\n",
    "        return 3\n",
    "    res=3*n//2\n",
    "    while n>2:\n",
    "        n/=2\n",
    "        res+=ms_rt(n)\n",
    "    return res+2\n",
    "\n",
    "def split_rt_mult(n):\n",
    "    if n==4:\n",
    "        return 3\n",
    "    if n==2:\n",
    "        return 1\n",
    "    return split_rt_mult(n//2)+2*split_rt_mult(n//4)+3*n/4\n",
    "\n",
    "def ms3_rt(n):\n",
    "    print(n)\n",
    "    if n==3:\n",
    "        return 6\n",
    "    if n==2:\n",
    "        return 2\n",
    "    if n%3!=0:\n",
    "        return ms_rt(n)\n",
    "    res=3*n\n",
    "    n/=3\n",
    "    res+=ms3_rt(n)\n",
    "    while n>2:\n",
    "        n/=2\n",
    "        res+=2*ms3_rt(n)\n",
    "    return res\n",
    "\n",
    "def split(n):\n",
    "    if n==1:\n",
    "        return 0\n",
    "    if n==2:\n",
    "        return 2\n",
    "    return split(n/2)+2*split(n/4)+9/4*n\n",
    "    \n",
    "#ms3_rt(12)\n",
    "#print([2^i for i in range(1,10)])\n",
    "print([ms_rt(2^i) for i in range(1,15)])\n",
    "#print([ms3_rt(2^i) for i in range(1,10)])\n",
    "#print([3*2^i*i//2 for i in range(1,10)])\n",
    "print([split(2^i) for i in range(6,15)])\n",
    "print([3*2^i*i/2 for i in range(1,15)])\n",
    "#print([4*2^i*i-6*i for i in range(1,10)])"
   ]
  },
  {
   "cell_type": "code",
   "execution_count": 102,
   "metadata": {},
   "outputs": [
    {
     "name": "stdout",
     "output_type": "stream",
     "text": [
      "[64, 128, 256, 512, 1024, 2048, 4096, 8192, 16384]\n"
     ]
    },
    {
     "data": {
      "image/png": "[encoded data removed]",
      "text/plain": [
       "<Figure size 432x288 with 1 Axes>"
      ]
     },
     "metadata": {
      "needs_background": "light"
     },
     "output_type": "display_data"
    }
   ],
   "source": [
    "x=[2^i for i in range(6,15)]\n",
    "\n",
    "#ms_y = [ms_rt(2^i) for i in x]\n",
    "ms_y=[3*2^i*i//2 for i in range(6,15)]\n",
    "split_y=[1160,2824,6664,15368,34824,77832,172040,376840,819208]\n",
    "jf_y=[1152,2792,6552,15048,33968,75688,166856,364680,791264]\n",
    "jf_mod_y=[34/9*2^i*i for i in range(6,15)]\n",
    "print(x)\n",
    "import matplotlib.pyplot as plt\n",
    "plt.plot(x,ms_y,label=\"ms\")\n",
    "plt.plot(x,jf_y,label=\"jf\")\n",
    "#plt.plot(x,jf_mod_y,label=\"jf_mod\")\n",
    "plt.plot(x,split_y,label=\"split\")\n",
    "plt.legend()\n",
    "plt.show()"
   ]
  },
  {
   "cell_type": "code",
   "execution_count": 107,
   "metadata": {},
   "outputs": [
    {
     "data": {
      "image/png": "[encoded data removed]",
      "text/plain": [
       "<Figure size 432x288 with 1 Axes>"
      ]
     },
     "metadata": {
      "needs_background": "light"
     },
     "output_type": "display_data"
    }
   ],
   "source": [
    "#extended split radix\n",
    "mults=[4,24,76,208,548,1352,3196,7424,16916,37880,83948,184368]\n",
    "adds=[52,152,396,976,2340,5448,12412,27904,61972,136184,296940,643120]\n",
    "ex_split_y=[mults[i]+adds[i] for i in range(len(mults))]\n",
    "#plt.plot(x[:-1],ex_split_y[4:],label=\"ex_split\")\n",
    "#plt.plot(x,ms_y,label=\"ms\")\n",
    "plt.plot(x,jf_y,label=\"jf\")\n",
    "plt.plot(x,split_y,label=\"split\")\n",
    "plt.legend()\n",
    "plt.show()"
   ]
  },
  {
   "cell_type": "code",
   "execution_count": 115,
   "metadata": {},
   "outputs": [
    {
     "data": {
      "text/plain": [
       "1/2"
      ]
     },
     "execution_count": 115,
     "metadata": {},
     "output_type": "execute_result"
    }
   ],
   "source": []
  }
 ],
 "metadata": {
  "kernelspec": {
   "display_name": "SageMath 9.4",
   "language": "sage",
   "name": "sagemath"
  },
  "language_info": {
   "codemirror_mode": {
    "name": "ipython",
    "version": 3
   },
   "file_extension": ".py",
   "mimetype": "text/x-python",
   "name": "python",
   "nbconvert_exporter": "python",
   "pygments_lexer": "ipython3",
   "version": "3.9.5"
  }
 },
 "nbformat": 4,
 "nbformat_minor": 4
}
