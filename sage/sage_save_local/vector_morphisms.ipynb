{
 "cells": [
  {
   "cell_type": "code",
   "execution_count": 1,
   "metadata": {},
   "outputs": [
    {
     "name": "stdout",
     "output_type": "stream",
     "text": [
      "<class 'sage.rings.polynomial.polynomial_ring.PolynomialRing_dense_mod_p_with_category'>\n",
      "Univariate Polynomial Ring in x over Finite Field of size 17\n",
      "Univariate Polynomial Ring in y over Univariate Polynomial Ring in x over Finite Field of size 17\n",
      "Multivariate Polynomial Ring in x, y over Finite Field of size 17\n"
     ]
    }
   ],
   "source": [
    "\n",
    "\n",
    "\n",
    "from my_algebra.PolyRings import *\n",
    "\n",
    "\n",
    "\n",
    "prs=PolyRings(Integer(17),Integer(8))\n",
    "\n",
    "A,B,C=tuple(prs.domains)\n",
    "print(type(A))\n",
    "print(A)\n",
    "print(B)\n",
    "print(C)\n",
    "\n",
    "\n",
    "A_x=prs.get_element()\n"
   ]
  },
  {
   "cell_type": "code",
   "execution_count": 3,
   "metadata": {},
   "outputs": [],
   "source": [
    "#dir(my_algebra)\n",
    "\n",
    "class SpyMat:\n",
    "    def __init__(self,base,n):\n",
    "        self.n=n\n",
    "        self.base=base\n",
    "        self.g=self.base.multiplicative_generator()\n",
    "        k=self.n//self.base.characteristic\n",
    "        self.nth_root=pow(g,k)\n",
    "        self.two_nth_root=pow(g,k//2)\n",
    "        self.ms=MatrixSpace(base,n,n,sparse=False)\n",
    "        \n",
    "class Perm(SpyMat):\n",
    "    def __init__(self,n):\n",
    "        SpyMat.__init__(self,ZZ,n)\n",
    "\n",
    "class LPerm(Perm):\n",
    "    def __init__(self,m,k):\n",
    "        self.m=m\n",
    "        self.k=k\n",
    "        Perm.__init__(self,m*k)\n",
    "    def perm(self,i):\n",
    "        return i//self.m+self.k*(i%self.m)\n",
    "    def iperm(self,i):\n",
    "        return i//self.k+self.m*(i%self.k)\n",
    "    def getMat(self):\n",
    "        return Matrix([[1 if self.perm(j)==i else 0 for i in range(self.n)] for j in range(self.n)])\n",
    "\n",
    "class Diag(SpyMat):\n",
    "    def __init__(self,base,n):\n",
    "        SpyMat.__init__(self,base,n)\n",
    "    def get_element(self,i):\n",
    "        pass\n",
    "    \n",
    "class Ident(Diag):\n",
    "    def __init__(self,base,n):\n",
    "        Diag.__init__(self,base,n)\n",
    "    def get_element(self,i):\n",
    "        return 1\n",
    "    \n",
    "class Tw(Diag):\n",
    "    def __init__(self,base,n,m):\n",
    "        self.m\n",
    "        self.root=base\n",
    "        Diag.__init__(self,base,n)\n",
    "    def get_element(self,i):\n",
    "        return self.tw_func(i//self.m,i%self.m)\n",
    "    \n",
    "class Tw_CT(Diag):\n",
    "    def __init__(self,base,n,m):\n",
    "        Tw.__init__(self,base,n,m)\n",
    "        self.func\n",
    "    def func(self,i,j):\n",
    "        if self.NW:\n",
    "            return pow(self.two_nth_root,(2*i*j+(1)*i)%(2*self.n),self.p)\n",
    "        else:\n",
    "            return pow(self.nth_root,i*j,self.p)\n",
    "\n",
    "class Tw_GS(Tw):\n",
    "    def __init__(self,base,m,Inv=False):\n",
    "        Tw.__init__(self,pr,m,Inv)\n",
    "        self.NW=pr.Pos\n",
    "    def func(self,i,j):\n",
    "        if self.NW:\n",
    "            return pow(self.two_nth_root,i+2*i*j,self.p)\n",
    "        else:\n",
    "            return pow(self.nth_root,i*j,self.p)\n",
    "\n"
   ]
  },
  {
   "cell_type": "code",
   "execution_count": null,
   "metadata": {},
   "outputs": [],
   "source": [
    "ff=GF(17)\n",
    "ff.characteristic()\n",
    "dir(ff)\n",
    "ff.multiplicative_generator()\n",
    "\n"
   ]
  }
 ],
 "metadata": {
  "kernelspec": {
   "display_name": "SageMath 9.4",
   "language": "sage",
   "name": "sagemath"
  },
  "language_info": {
   "codemirror_mode": {
    "name": "ipython",
    "version": 3
   },
   "file_extension": ".py",
   "mimetype": "text/x-python",
   "name": "python",
   "nbconvert_exporter": "python",
   "pygments_lexer": "ipython3",
   "version": "3.9.5"
  }
 },
 "nbformat": 4,
 "nbformat_minor": 4
}
