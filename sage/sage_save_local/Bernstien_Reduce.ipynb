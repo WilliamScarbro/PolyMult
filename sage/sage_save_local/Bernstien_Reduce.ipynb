{
 "cells": [
  {
   "cell_type": "code",
   "execution_count": 2,
   "metadata": {},
   "outputs": [
    {
     "data": {
      "text/plain": [
       "Univariate Quotient Polynomial Ring in xbar over Finite Field of size 17 with modulus x^8 + 1"
      ]
     },
     "execution_count": 2,
     "metadata": {},
     "output_type": "execute_result"
    }
   ],
   "source": [
    "class Call:\n",
    "    def __init__(self,morph,args):\n",
    "        self.morph=morph\n",
    "        self.args=args\n",
    "    def __str__(self):\n",
    "        return morph.title+\"({})\".format(args)\n",
    "\n",
    "class Morph:\n",
    "    def __init__(self,domain,codomain):\n",
    "        self.domain=domain\n",
    "        self.codomain=codomain\n",
    "        self.title=\"<morph-interface>\"\n",
    "    def __init__(self):\n",
    "        return \"{}: {} => {}\".format(self.title,self.domain,self.codomain)\n",
    "    def __call__(self,args):\n",
    "        return Call(self,args)\n",
    "    def __getitem__(self,i):\n",
    "        \n",
    "        self.domain[i]\n",
    "\n",
    "# object classes\n",
    "class Base(Parent):\n",
    "    def __init__(self,arity):\n",
    "        self.arity=arity\n",
    "        \n",
    "class My_QR(Base):\n",
    "    def __init__(self,n,p,c):\n",
    "        Base.__init__(self,1)\n",
    "        self.n=n\n",
    "        self.p=p\n",
    "        self.c=c\n",
    "        self.ff=GF(p)\n",
    "        self.pr=PolynomialRing(ff,['x'])\n",
    "        self.qr=pr.quotient(pr('x')^n-c)\n",
    "        \n",
    "class SetProduct(Base):\n",
    "    def __init__(self,sets):\n",
    "        Base.__init__(self,len(sets))\n",
    "        self.sets=sets\n",
    "    def __str__(self):\n",
    "        return \"Set product of sets\"\n",
    "\n",
    "class Tuple(SetProduct):\n",
    "    def __init__(self,_set,arity):\n",
    "        Base.__init__(self,arity)\n",
    "        self.set=_set\n",
    "    def __str__(self):\n",
    "        return f\"Tuple of {self.set} arity  {self.arity}\"\n",
    "    def __getitem__(self,i):\n",
    "        return self.set\n",
    "\n",
    "# signatures\n",
    "\n",
    "class QR_construct(Morph):\n",
    "    def __init__(self):\n",
    "        Morph.__init__(Tuple(ff,3),My_QR)\n",
    "        self.title=\"QR_construct\"\n",
    "        \n",
    "class MultiOperator(Morph):\n",
    "    def __init__(self,operand,k,result):\n",
    "        Morph.__init__(self,Tuple(operand,k),result)\n",
    "        self.title=\"<multi-op-interface>\"\n",
    "        \n",
    "class Kth_root(MutliOperator):\n",
    "    def __init__(self,ff):\n",
    "        MultiOperator.__init__(self,ff,2,ff)\n",
    "        self.title=\"kth-root\"\n",
    "        \n",
    "class Divide(MultiOperator):\n",
    "    def __init__(self,ff):\n",
    "        PairOperator.__init__(self,ff,2,ff)\n",
    "        self.title=\"divide\"\n",
    "        \n",
    "class QR_Multiply(MultiOperator):\n",
    "    def __init__(self,qr):\n",
    "        MultiOperator.__init__(self,qr,2,qr)\n",
    "        self.title=\"QR_Multiply\"\n",
    "\n",
    "\n",
    "        \n",
    "class Constraint:\n",
    "    def __init__(self,call,checks,desc,children):\n",
    "        self.morph=morph\n",
    "        self.checks=checks\n",
    "        self.desc=desc\n",
    "    def check(self,morph):\n",
    "        for c in checks\n",
    "        \n",
    "class Reduction:\n",
    "    def __init__(self,constraints):\n",
    "        self.title=\"<reduction-interface>\"\n",
    "\n",
    "# rewrite rules\n",
    "class phi(Reduction):\n",
    "    def __init__(self,k):\n",
    "        Morph.__init__(self,qr)\n",
    "    def "
   ]
  },
  {
   "cell_type": "code",
   "execution_count": 1,
   "metadata": {},
   "outputs": [
    {
     "name": "stdout",
     "output_type": "stream",
     "text": [
      "{}\n"
     ]
    }
   ],
   "source": [
    "# divide(a,x) -> a/x subj constr x!=0\n",
    "# divide(a,x) -> a subj constr x==1\n",
    "\n",
    "# QR(n,p,c)= F_p[x] / (x^n+w^c), w=nth root of unity\n",
    "\n",
    "# phi(qr,k): QR(n,p,c) -> QR(n/k,p,c^(1/k))\n",
    "# phi_prime(qr,k): QR(n,p,c) -> QR(n/k,p,-c^(1/k))\n",
    "\n",
    "# phi_inv(qr by qr_comp): QR(n,p,c) x QR(n,p,-c) -> QR(2n,p,c^2)\n",
    "\n",
    "# multi_reduce: Mult"
   ]
  }
 ],
 "metadata": {
  "kernelspec": {
   "display_name": "SageMath 9.4",
   "language": "sage",
   "name": "sagemath"
  },
  "language_info": {
   "codemirror_mode": {
    "name": "ipython",
    "version": 3
   },
   "file_extension": ".py",
   "mimetype": "text/x-python",
   "name": "python",
   "nbconvert_exporter": "python",
   "pygments_lexer": "ipython3",
   "version": "3.9.5"
  }
 },
 "nbformat": 4,
 "nbformat_minor": 4
}
