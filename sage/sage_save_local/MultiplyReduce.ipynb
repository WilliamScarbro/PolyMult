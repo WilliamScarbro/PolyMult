{
 "cells": [
  {
   "cell_type": "code",
   "execution_count": 1,
   "metadata": {},
   "outputs": [],
   "source": [
    "from my_algebra.PolyRings import *\n",
    "\n",
    "from sage.structure.unique_representation import UniqueRepresentation\n",
    "from sage.rings.ring import Ring\n",
    "class RestrictedPolyRing(UniqueRepresentation,Ring):\n",
    "    def __init__(self,polyring,n):\n",
    "        Ring.__init__(self,polyring)\n",
    "        self.n=n\n",
    "    def __str__(self):\n",
    "        return f\"RestrictedPolyRing: {str(self.base_ring())} degree < {self.n}\"\n",
    "        \n",
    "class Morph:\n",
    "    def __init__(self,domain,codomain):\n",
    "        self.domain=domain\n",
    "        self.codomain=codomain\n",
    "        \n",
    "class Reduction(Morph):\n",
    "    def __init__(self,domain,codomain):\n",
    "        Morph.__init__(domain,codomain)\n",
    "    def __str__(self):\n",
    "        return f\"Reduction:\\n  {self.domain} =>  \\n{self.codomain}\"\n",
    "    \n",
    "class Tuple:\n",
    "    def __init__(self,_set,length):\n",
    "        self.set=_set\n",
    "        self.length=length\n",
    "    def __str__(self):\n",
    "        return f\"Tuple of {self.set} length  {self.length}\"\n",
    "    \n",
    "class PairOperator(Morph):\n",
    "    def __init__(self,operand_a,operand_b,result):\n",
    "        Morph.__init__(self,Tuple(operand_a,operand_b),result)\n",
    "\n",
    "class RPR_Multiply(PairOperator):\n",
    "    def __init__(self,rpr_1,rpr_2):\n",
    "        assert rpr_1.base_ring() == rpr_2.base_ring()\n",
    "        result=RestrictedPolyRing(rpr_1.base_ring(),rpr_1.n+rpr_2.n)\n",
    "        PairOperator.__init__(self,rpr_1,rpr_2,result)\n",
    "    def __str__(self):\n",
    "        return f\"RPR_Multiply:\\n  {self.domain} =>\\n  {self.codomain}\""
   ]
  },
  {
   "cell_type": "code",
   "execution_count": 3,
   "metadata": {},
   "outputs": [
    {
     "name": "stdout",
     "output_type": "stream",
     "text": [
      "Univariate Polynomial Ring in x over Finite Field of size 3\n",
      "RestrictedPolyRing: Univariate Polynomial Ring in x over Finite Field of size 3 degree < 4\n",
      "RPR_Multiply:\n",
      "  Tuple of RestrictedPolyRing: Univariate Polynomial Ring in x over Finite Field of size 3 degree < 4 length  RestrictedPolyRing: Univariate Polynomial Ring in x over Finite Field of size 3 degree < 4 =>\n",
      "  RestrictedPolyRing: Univariate Polynomial Ring in x over Finite Field of size 3 degree < 8\n"
     ]
    },
    {
     "ename": "TypeError",
     "evalue": "__init__() missing 1 required positional argument: 'codomain'",
     "output_type": "error",
     "traceback": [
      "\u001b[0;31m---------------------------------------------------------------------------\u001b[0m",
      "\u001b[0;31mTypeError\u001b[0m                                 Traceback (most recent call last)",
      "\u001b[0;32m<ipython-input-3-60e82bd63f4e>\u001b[0m in \u001b[0;36m<module>\u001b[0;34m\u001b[0m\n\u001b[1;32m     10\u001b[0m \u001b[0;34m\u001b[0m\u001b[0m\n\u001b[1;32m     11\u001b[0m \u001b[0;34m\u001b[0m\u001b[0m\n\u001b[0;32m---> 12\u001b[0;31m \u001b[0mrpr_red\u001b[0m\u001b[0;34m=\u001b[0m\u001b[0mReduction\u001b[0m\u001b[0;34m(\u001b[0m\u001b[0mrpr\u001b[0m\u001b[0;34m,\u001b[0m\u001b[0;34m)\u001b[0m\u001b[0;34m\u001b[0m\u001b[0;34m\u001b[0m\u001b[0m\n\u001b[0m\u001b[1;32m     13\u001b[0m \u001b[0mrpr_mult_red\u001b[0m\u001b[0;34m=\u001b[0m\u001b[0mReduction\u001b[0m\u001b[0;34m(\u001b[0m\u001b[0mrpr_mult\u001b[0m\u001b[0;34m,\u001b[0m\u001b[0;34m)\u001b[0m\u001b[0;34m\u001b[0m\u001b[0;34m\u001b[0m\u001b[0m\n",
      "\u001b[0;31mTypeError\u001b[0m: __init__() missing 1 required positional argument: 'codomain'"
     ]
    }
   ],
   "source": [
    "n=4\n",
    "p=3\n",
    "ff=GF(p)\n",
    "pr=PolynomialRing(ff,[\"x\"])\n",
    "print(pr)\n",
    "rpr=RestrictedPolyRing(pr,n)\n",
    "print(rpr)\n",
    "rpr_mult=RPR_Multiply(rpr,rpr)\n",
    "print(rpr_mult)\n",
    "\n",
    "\n",
    "rpr_red=Reduction(rpr,)\n",
    "rpr_mult_red=Reduction(rpr_mult,)"
   ]
  }
 ],
 "metadata": {
  "kernelspec": {
   "display_name": "SageMath 9.4",
   "language": "sage",
   "name": "sagemath"
  },
  "language_info": {
   "codemirror_mode": {
    "name": "ipython",
    "version": 3
   },
   "file_extension": ".py",
   "mimetype": "text/x-python",
   "name": "python",
   "nbconvert_exporter": "python",
   "pygments_lexer": "ipython3",
   "version": "3.9.5"
  }
 },
 "nbformat": 4,
 "nbformat_minor": 4
}
