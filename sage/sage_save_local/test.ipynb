{
 "cells": [
  {
   "cell_type": "code",
   "execution_count": null,
   "metadata": {},
   "outputs": [],
   "source": [
    "(exp(x+x^2)).save(os.path.join(SAGE_TMP, 'file'))"
   ]
  },
  {
   "cell_type": "code",
   "execution_count": null,
   "metadata": {},
   "outputs": [],
   "source": [
    "load(os.path.join(SAGE_TMP,'file.sobj'))"
   ]
  },
  {
   "cell_type": "code",
   "execution_count": null,
   "metadata": {},
   "outputs": [],
   "source": []
  },
  {
   "cell_type": "code",
   "execution_count": 40,
   "metadata": {},
   "outputs": [
    {
     "name": "stdout",
     "output_type": "stream",
     "text": [
      "Parameters: \n",
      "  p:17\n",
      "  N:8\n",
      "  k:4\n",
      "\n",
      "Domains\n",
      "A\n",
      "Univariate Polynomial Ring in x over Finite Field of size 17\n",
      "B\n",
      "Univariate Polynomial Ring in y over Univariate Polynomial Ring in x over Finite Field of size 17\n",
      "C\n",
      "Multivariate Polynomial Ring in x, y over Finite Field of size 17\n",
      "\n"
     ]
    }
   ],
   "source": [
    "p=17\n",
    "N=8\n",
    "k=4\n",
    "m=N/k\n",
    "print(\"Parameters: \\n  p:{}\\n  N:{}\\n  k:{}\\n\".format(p,N,k))\n",
    "\n",
    "print(\"Domains\")\n",
    "ff=GF(p)\n",
    "\n",
    "A=PolynomialRing(ff,['x'])\n",
    "A_q=A.quotient(A(\"x^{}-1\".format(N)))\n",
    "\n",
    "B=PolynomialRing(A,['y'])\n",
    "B_q=B.quotient(B(\"y^{}-1\".format(m)))\n",
    "\n",
    "C=PolynomialRing(ff,['x','y'])\n",
    "C_q=C.quotient(C(\"x^{}-1\".format(N))).quotient(C(\"y^{}-1\".format(m)))\n",
    "\n",
    "print(\"A\")\n",
    "print(A)\n",
    "print(\"B\")\n",
    "print(B)\n",
    "print(\"C\")\n",
    "print(C)\n",
    "print()\n",
    "\n",
    "A_x=A('x')\n",
    "B_y=B('y')\n",
    "C_x=C('x')\n",
    "C_y=C('y')\n",
    "\n",
    "\n",
    "\n",
    "#X.hom([])\n",
    "#pr_q_wrapped = PolynomialRing(pr,'y')\n",
    "#pr2"
   ]
  },
  {
   "cell_type": "code",
   "execution_count": 41,
   "metadata": {},
   "outputs": [
    {
     "name": "stdout",
     "output_type": "stream",
     "text": [
      "Morphisms:\n",
      "C->A\n",
      "Ring morphism:\n",
      "  From: Multivariate Polynomial Ring in x, y over Finite Field of size 17\n",
      "  To:   Univariate Polynomial Ring in x over Finite Field of size 17\n",
      "  Defn: x |--> x\n",
      "        y |--> x^2\n",
      "x + y + 1\n",
      "becomes\n",
      "x^2 + x + 1\n",
      "\n"
     ]
    }
   ],
   "source": [
    "print(\"Morphisms:\")\n",
    "\n",
    "C_to_A = C.hom([A_x,A_x^m])\n",
    "print(\"C->A\")\n",
    "print(C_to_A)\n",
    "c=C_x+C_y+1\n",
    "print(c)\n",
    "print(\"becomes\")\n",
    "c_a=C_to_A(c)\n",
    "print(c_a)\n",
    "print()\n",
    "\n",
    "# B_to_A = B.hom([A_x^m])\n",
    "# print(\"B->A\")\n",
    "# print(B_to_A)"
   ]
  },
  {
   "cell_type": "code",
   "execution_count": 42,
   "metadata": {},
   "outputs": [
    {
     "name": "stdout",
     "output_type": "stream",
     "text": [
      "A->C\n",
      "Ring morphism:\n",
      "  From: Univariate Polynomial Ring in x over Finite Field of size 17\n",
      "  To:   Multivariate Polynomial Ring in x, y over Finite Field of size 17\n",
      "  Defn: x |--> x\n",
      "x + 1\n",
      "becomes\n",
      "x + 1\n"
     ]
    }
   ],
   "source": [
    "A_to_C=A.hom([C_x])\n",
    "print(\"A->C\")\n",
    "print(A_to_C)\n",
    "a=A_x+1\n",
    "print(a)\n",
    "print(\"becomes\")\n",
    "print(A_to_C(a))"
   ]
  },
  {
   "cell_type": "code",
   "execution_count": 43,
   "metadata": {},
   "outputs": [
    {
     "name": "stdout",
     "output_type": "stream",
     "text": [
      "[2*x^2 + 2*x + 2, x^2 + x + 1, 0, 0, 0, 0, 0, 0]\n"
     ]
    }
   ],
   "source": [
    "a1=A_x^2+A_x+1\n",
    "a2=2*A_x^2+2*A_x+2\n",
    "b=a1*B_y+a2\n",
    "B.base_ring()\n",
    "print([A_to_C(b[i]) for i in range(N)])"
   ]
  },
  {
   "cell_type": "code",
   "execution_count": 78,
   "metadata": {},
   "outputs": [
    {
     "name": "stdout",
     "output_type": "stream",
     "text": [
      "B->C\n",
      "Generic morphism:\n",
      "  From: Univariate Polynomial Ring in y over Univariate Polynomial Ring in x over Finite Field of size 17\n",
      "  To:   Multivariate Polynomial Ring in x, y over Finite Field of size 17\n",
      "(3*x^2 + 3*x + 3)*y^2 + (2*x^2 + 2*x + 2)*y + x^2 + x + 1\n",
      "becomes\n",
      "3*x^2*y^2 + 2*x^2*y + 3*x*y^2 + x^2 + 2*x*y + 3*y^2 + x + 2*y + 1\n"
     ]
    }
   ],
   "source": [
    "class B_to_C_morph(Morphism):\n",
    "    def __init__(self,maps):\n",
    "        Morphism.__init__(self,Hom(B,C))\n",
    "        self.xmap=maps[0]\n",
    "        self.ymap=maps[1]\n",
    "    def _call_(self,x):\n",
    "        return sum(self.xmap(x[i])*self.ymap^i for i in range(N))\n",
    "\n",
    "print(\"B->C\")\n",
    "B_to_C=B_to_C_morph([A_to_C,C_y])\n",
    "print(B_to_C)\n",
    "a1=A_x^2+A_x+1\n",
    "a2=2*A_x^2+2*A_x+2\n",
    "a3=3*A_x^2+3*A_x+3\n",
    "b=a3*B_y^2+a2*B_y+a1\n",
    "print(b)\n",
    "print(\"becomes\")\n",
    "b_c = B_to_C(b)\n",
    "print(b_c)"
   ]
  },
  {
   "cell_type": "code",
   "execution_count": 79,
   "metadata": {},
   "outputs": [
    {
     "data": {
      "text/plain": [
       "[[1, 1, 1], [2, 2, 2], [3, 3, 3]]"
      ]
     },
     "execution_count": 79,
     "metadata": {},
     "output_type": "execute_result"
    }
   ],
   "source": [
    "[[b_c[i,j] for i in range(3)] for j in range(3) ]"
   ]
  },
  {
   "cell_type": "code",
   "execution_count": 80,
   "metadata": {},
   "outputs": [
    {
     "data": {
      "text/plain": [
       "3*x^6 + 3*x^5 + 5*x^4 + 2*x^3 + 3*x^2 + x + 1"
      ]
     },
     "execution_count": 80,
     "metadata": {},
     "output_type": "execute_result"
    }
   ],
   "source": [
    "C_to_A(B_to_C(b))"
   ]
  }
 ],
 "metadata": {
  "kernelspec": {
   "display_name": "SageMath 9.4",
   "language": "sage",
   "name": "sagemath"
  },
  "language_info": {
   "codemirror_mode": {
    "name": "ipython",
    "version": 3
   },
   "file_extension": ".py",
   "mimetype": "text/x-python",
   "name": "python",
   "nbconvert_exporter": "python",
   "pygments_lexer": "ipython3",
   "version": "3.9.5"
  }
 },
 "nbformat": 4,
 "nbformat_minor": 4
}
